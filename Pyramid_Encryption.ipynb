{
  "nbformat": 4,
  "nbformat_minor": 0,
  "metadata": {
    "colab": {
      "provenance": []
    },
    "kernelspec": {
      "name": "python3",
      "display_name": "Python 3"
    },
    "language_info": {
      "name": "python"
    }
  },
  "cells": [
    {
      "cell_type": "code",
      "execution_count": 50,
      "metadata": {
        "colab": {
          "base_uri": "https://localhost:8080/"
        },
        "id": "8JMVwhER9qNl",
        "outputId": "395f4e2d-5fe9-4c17-f603-f9ecc4e83fa1"
      },
      "outputs": [
        {
          "output_type": "stream",
          "name": "stdout",
          "text": [
            " the generous assistance from dear friends has been noted eminent action is due proceed with wing seventy of underground storage key the sleeping soldier\n"
          ]
        }
      ],
      "source": [
        "import numpy as np\n",
        "# Initializing Variables\n",
        "Edge_no = 0     # Pyramid Edge Number\n",
        "code = \"\"      # Output String\n",
        "dict={}\n",
        "\n",
        "# Reading Text File\n",
        "f = open(\"coding_qual_input.txt\")\n",
        "lines = f.read().split('\\n')\n",
        "lines = list(filter(None, lines)) # Removing Blank Entries\n",
        "\n",
        "# Organizing Data\n",
        "for i in range(0,len(lines)):\n",
        "  split =  lines[i].split();     # Seperates at the blank space. \"1 young\" -> [\"1\",\"young\"]\n",
        "  dict.update({split[0]:split[1]})\n",
        "\n",
        "# Decoding\n",
        "# Calculates No of rows based on last element/lenght of dictionary -> Edge_no = 1/2(Row_No^2+Row_No)\n",
        "for Row_no in range(1,int((-1+np.sqrt(1+8*len(dict)))/2)+1):\n",
        "  Edge_no +=Row_no    # E_n = E_(n-1) + R\n",
        "  #print(Edge_no,dict[str(Edge_no)])\n",
        "  code = code + \" \" + dict[str(Edge_no)] #Concatenating string by referencing dict through Edge_no\n",
        "print(code)"
      ]
    }
  ]
}
